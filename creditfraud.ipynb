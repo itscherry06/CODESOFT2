{
 "cells": [
  {
   "cell_type": "code",
   "execution_count": 52,
   "id": "387b95a1-017b-4515-b066-970c38f33474",
   "metadata": {},
   "outputs": [],
   "source": [
    "import pandas as pd\n",
    "import numpy as np\n",
    "import matplotlib.pyplot as plt\n",
    "import seaborn as sns\n",
    "\n",
    "from sklearn.ensemble import RandomForestClassifier\n",
    "from sklearn.metrics import classification_report, confusion_matrix\n",
    "from sklearn.preprocessing import LabelEncoder\n"
   ]
  },
  {
   "cell_type": "code",
   "execution_count": 54,
   "id": "f53c7ef8-6b04-4255-a863-031b03aecff8",
   "metadata": {},
   "outputs": [],
   "source": [
    "train_data = pd.read_csv(\"fraudTrain.csv\")\n",
    "test_data = pd.read_csv(\"fraudTest.csv\")\n"
   ]
  },
  {
   "cell_type": "code",
   "execution_count": 56,
   "id": "7c7243ba-fa68-486f-9098-492ca696f891",
   "metadata": {},
   "outputs": [],
   "source": [
    "le = LabelEncoder()\n",
    "train_data['category'] = le.fit_transform(train_data['category'])\n",
    "test_data['category'] = le.transform(test_data['category'])\n"
   ]
  },
  {
   "cell_type": "code",
   "execution_count": 25,
   "id": "79d546ae-9536-416e-819c-ccc832a02258",
   "metadata": {},
   "outputs": [
    {
     "name": "stdout",
     "output_type": "stream",
     "text": [
      "Index(['Unnamed: 0', 'trans_date_trans_time', 'cc_num', 'merchant', 'category',\n",
      "       'amt', 'first', 'last', 'gender', 'street', 'city', 'state', 'zip',\n",
      "       'lat', 'long', 'city_pop', 'job', 'dob', 'trans_num', 'unix_time',\n",
      "       'merch_lat', 'merch_long', 'is_fraud'],\n",
      "      dtype='object')\n"
     ]
    }
   ],
   "source": [
    "print(train_data.columns)\n"
   ]
  },
  {
   "cell_type": "code",
   "execution_count": 58,
   "id": "d33e375f-09fe-4a98-8847-509643359474",
   "metadata": {},
   "outputs": [],
   "source": [
    "cols_to_drop = ['Unnamed: 0', 'trans_date_trans_time', 'cc_num', 'merchant', 'first', 'last', \n",
    "                'gender', 'street', 'city', 'state', 'zip', 'job', 'dob', 'trans_num']\n",
    "\n",
    "X_train = train_data.drop(columns=cols_to_drop + ['is_fraud'])\n",
    "y_train = train_data['is_fraud']\n",
    "\n",
    "X_test = test_data.drop(columns=cols_to_drop + ['is_fraud'])\n",
    "y_test = test_data['is_fraud']\n",
    "\n",
    "# 🔄 Label encode all object columns (just in case more text exists)\n",
    "for col in X_train.columns:\n",
    "    if X_train[col].dtype == 'object':\n",
    "        le = LabelEncoder()\n",
    "        X_train[col] = le.fit_transform(X_train[col].astype(str))\n",
    "        X_test[col] = le.transform(X_test[col].astype(str))\n"
   ]
  },
  {
   "cell_type": "code",
   "execution_count": 60,
   "id": "7928d719-9340-41da-8e38-3c28bc7a26c5",
   "metadata": {},
   "outputs": [
    {
     "name": "stdout",
     "output_type": "stream",
     "text": [
      "✅ Model trained with class_weight='balanced'\n"
     ]
    }
   ],
   "source": [
    "# ⚠️ This line is new: class_weight='balanced'\n",
    "model = RandomForestClassifier(n_estimators=100, random_state=42, class_weight='balanced')\n",
    "model.fit(X_train, y_train)\n",
    "\n",
    "print(\"✅ Model trained with class_weight='balanced'\")\n"
   ]
  },
  {
   "cell_type": "code",
   "execution_count": 61,
   "id": "71c46c30-daed-4ed6-b258-b6305b35cfcf",
   "metadata": {},
   "outputs": [
    {
     "name": "stdout",
     "output_type": "stream",
     "text": [
      "📊 Confusion Matrix:\n",
      " [[553557     17]\n",
      " [  1880    265]]\n",
      "\n",
      "📄 Classification Report:\n",
      "               precision    recall  f1-score   support\n",
      "\n",
      "           0       1.00      1.00      1.00    553574\n",
      "           1       0.94      0.12      0.22      2145\n",
      "\n",
      "    accuracy                           1.00    555719\n",
      "   macro avg       0.97      0.56      0.61    555719\n",
      "weighted avg       1.00      1.00      1.00    555719\n",
      "\n"
     ]
    }
   ],
   "source": [
    "y_pred = model.predict(X_test)\n",
    "\n",
    "print(\"📊 Confusion Matrix:\\n\", confusion_matrix(y_test, y_pred))\n",
    "print(\"\\n📄 Classification Report:\\n\", classification_report(y_test, y_pred))\n"
   ]
  },
  {
   "cell_type": "code",
   "execution_count": 62,
   "id": "25ff1255-b339-466d-b453-7d8321ee18cf",
   "metadata": {},
   "outputs": [
    {
     "name": "stdout",
     "output_type": "stream",
     "text": [
      "💾 Predictions saved to 'fraud_predictions.csv'\n"
     ]
    }
   ],
   "source": [
    "predictions_df = pd.DataFrame({\n",
    "    'Actual': y_test,\n",
    "    'Predicted': y_pred\n",
    "})\n",
    "predictions_df.to_csv('fraud_predictions.csv', index=False)\n",
    "\n",
    "print(\"💾 Predictions saved to 'fraud_predictions.csv'\")\n"
   ]
  },
  {
   "cell_type": "code",
   "execution_count": 36,
   "id": "1951b822-4031-419b-aed0-f2f4df55118f",
   "metadata": {},
   "outputs": [
    {
     "name": "stdout",
     "output_type": "stream",
     "text": [
      "Confusion Matrix:\n",
      " [[553205    369]\n",
      " [  1121   1024]]\n",
      "\n",
      "Classification Report:\n",
      "               precision    recall  f1-score   support\n",
      "\n",
      "           0       1.00      1.00      1.00    553574\n",
      "           1       0.74      0.48      0.58      2145\n",
      "\n",
      "    accuracy                           1.00    555719\n",
      "   macro avg       0.87      0.74      0.79    555719\n",
      "weighted avg       1.00      1.00      1.00    555719\n",
      "\n"
     ]
    }
   ],
   "source": [
    "y_pred = model.predict(X_test)\n",
    "\n",
    "print(\"Confusion Matrix:\\n\", confusion_matrix(y_test, y_pred))\n",
    "print(\"\\nClassification Report:\\n\", classification_report(y_test, y_pred))\n"
   ]
  },
  {
   "cell_type": "code",
   "execution_count": 63,
   "id": "a943f373-b3bb-4c9c-8507-c0660a2e1792",
   "metadata": {},
   "outputs": [
    {
     "data": {
      "image/png": "[encoded data removed]",
      "text/plain": [
       "<Figure size 640x480 with 2 Axes>"
      ]
     },
     "metadata": {},
     "output_type": "display_data"
    }
   ],
   "source": [
    "sns.heatmap(confusion_matrix(y_test, y_pred), annot=True, fmt='d', cmap='coolwarm')\n",
    "plt.title(\"Confusion Matrix\")\n",
    "plt.xlabel(\"Predicted\")\n",
    "plt.ylabel(\"Actual\")\n",
    "plt.show()\n"
   ]
  },
  {
   "cell_type": "code",
   "execution_count": 38,
   "id": "c06bf401-26d6-4810-b5f5-d9abe81bc85b",
   "metadata": {},
   "outputs": [
    {
     "name": "stdout",
     "output_type": "stream",
     "text": [
      "🔍 Confusion Matrix:\n",
      " [[553205    369]\n",
      " [  1121   1024]]\n",
      "\n",
      "📄 Classification Report:\n",
      "               precision    recall  f1-score   support\n",
      "\n",
      "           0       1.00      1.00      1.00    553574\n",
      "           1       0.74      0.48      0.58      2145\n",
      "\n",
      "    accuracy                           1.00    555719\n",
      "   macro avg       0.87      0.74      0.79    555719\n",
      "weighted avg       1.00      1.00      1.00    555719\n",
      "\n"
     ]
    }
   ],
   "source": [
    "from sklearn.metrics import classification_report, confusion_matrix\n",
    "\n",
    "# Predict again to be safe\n",
    "y_pred = model.predict(X_test)\n",
    "\n",
    "# Print evaluation results\n",
    "print(\"🔍 Confusion Matrix:\\n\", confusion_matrix(y_test, y_pred))\n",
    "print(\"\\n📄 Classification Report:\\n\", classification_report(y_test, y_pred))\n"
   ]
  },
  {
   "cell_type": "code",
   "execution_count": 67,
   "id": "2c96f0a7-ee36-4220-b429-984ad42209df",
   "metadata": {},
   "outputs": [
    {
     "name": "stdout",
     "output_type": "stream",
     "text": [
      "(555719,)\n",
      "[0 0 0 0 0 0 0 0 0 0]\n"
     ]
    }
   ],
   "source": [
    "print(y_test.shape)\n",
    "print(y_pred[:10])  # Print first 10 predictions\n"
   ]
  },
  {
   "cell_type": "code",
   "execution_count": 75,
   "id": "fc3d1622-c95d-4cd3-9d60-de20be184bcd",
   "metadata": {},
   "outputs": [
    {
     "name": "stdout",
     "output_type": "stream",
     "text": [
      "✅ Predictions saved to fraud_predictions.csv\n"
     ]
    }
   ],
   "source": [
    "# Create a DataFrame for predictions\n",
    "predictions_df = pd.DataFrame({\n",
    "    'Actual': y_test,\n",
    "    'Predicted': y_pred\n",
    "})\n",
    "\n",
    "# Save it as a CSV\n",
    "predictions_df.to_csv('fraud_predictions.csv', index=False)\n",
    "\n",
    "print(\"✅ Predictions saved to fraud_predictions.csv\")\n"
   ]
  },
  {
   "cell_type": "code",
   "execution_count": 66,
   "id": "27439dbf-1ced-4c2e-ae8a-a92ea2dbe884",
   "metadata": {},
   "outputs": [
    {
     "name": "stdout",
     "output_type": "stream",
     "text": [
      "💾 Model saved as fraud_detection_model.pkl\n"
     ]
    }
   ],
   "source": [
    "import joblib\n",
    "joblib.dump(model, 'fraud_detection_model.pkl')\n",
    "print(\"💾 Model saved as fraud_detection_model.pkl\")\n"
   ]
  }
 ],
 "metadata": {
  "kernelspec": {
   "display_name": "Python [conda env:base] *",
   "language": "python",
   "name": "conda-base-py"
  },
  "language_info": {
   "codemirror_mode": {
    "name": "ipython",
    "version": 3
   },
   "file_extension": ".py",
   "mimetype": "text/x-python",
   "name": "python",
   "nbconvert_exporter": "python",
   "pygments_lexer": "ipython3",
   "version": "3.12.7"
  }
 },
 "nbformat": 4,
 "nbformat_minor": 5
}
